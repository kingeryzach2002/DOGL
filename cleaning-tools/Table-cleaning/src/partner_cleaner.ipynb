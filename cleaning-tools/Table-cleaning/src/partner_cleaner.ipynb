{
 "cells": [
  {
   "cell_type": "code",
   "execution_count": 17,
   "metadata": {},
   "outputs": [
    {
     "name": "stderr",
     "output_type": "stream",
     "text": [
      "/var/folders/2p/0hr75ykx133b0bk5k4nf52580000gn/T/ipykernel_54842/2775750888.py:14: FutureWarning: The default value of regex will change from True to False in a future version.\n",
      "  partners_list_df['cleaned'] = partners_list_df['cleaned'].str.replace(old_text, new_text)\n"
     ]
    }
   ],
   "source": [
    "import pandas as pd\n",
    "\n",
    "path = '/Users/zfrancis/Documents/Personal_Work_Stuff/programs/odsi/DOGL_Repo/DOGL/cleaning-tools/Table-cleaning/data/partner_data_raw.csv'\n",
    "\n",
    "partners_list_df = pd.read_csv(path)\n",
    "partners_list_df['cleaned'] = partners_list_df.iloc[:, 0]\n",
    "\n",
    "# Functions for quickly deleting and replacing one- or few-time errors\n",
    "def quick_remove(text):\n",
    "    partners_list_df['cleaned'] = partners_list_df['cleaned'].str.replace(text,'')\n",
    "    return partners_list_df\n",
    "\n",
    "def quick_replace(old_text, new_text):\n",
    "    partners_list_df['cleaned'] = partners_list_df['cleaned'].str.replace(old_text, new_text)\n",
    "    return partners_list_df\n",
    "\n",
    "# Solve all those little errors\n",
    "partners_list_df = quick_remove('\"')\n",
    "partners_list_df = quick_remove(\"Partnerships:' \")\n",
    "partners_list_df = quick_replace(\" 'Cooperations:'\",\";\")\n",
    "partners_list_df = quick_remove(\"Advisory Board: \")\n",
    "partners_list_df = quick_replace(\"Does not explictly state the name of these partners\", \"Not indicated\")\n",
    "partners_list_df = quick_replace(\"Includes a weblink to 'list of partners' that lists categories of Memberstates, Scientific Institutions, Civil Society, Business, Foundations. Only one partner is listed, Tara Ocean Foundation. https://ioc.unesco.org/partners IODE is the data collection/management entity/programme of IOC. See IODE for list of Partners.\",\"Tara Ocean Foundation\")\n",
    "\n",
    "\n",
    "# On certain rows, replace commas with semicolons\n",
    "comma_rows = [31,34,40,41,42,43,44,45,46,51,57]\n",
    "for row in comma_rows:\n",
    "    original_text = partners_list_df.loc[row, 'cleaned']\n",
    "    new_text = original_text.replace(',',';')\n",
    "    partners_list_df.loc[row,'cleaned'] = new_text\n",
    "\n",
    "# Replace NaN values with \"Not Indicated\"\n",
    "partners_list_df['cleaned'].fillna(\"Not Indicated\", inplace=True)\n",
    "\n",
    "# Display the cleaned data to check the results\n",
    "partners_list_df[['cleaned']].head()\n",
    "\n",
    "partners_list_df.to_csv('/Users/zfrancis/Documents/Personal_Work_Stuff/programs/odsi/DOGL_Repo/DOGL/cleaning-tools/Table-cleaning/data/partner_data_cleaned.csv')"
   ]
  }
 ],
 "metadata": {
  "kernelspec": {
   "display_name": "odsi_env",
   "language": "python",
   "name": "python3"
  },
  "language_info": {
   "codemirror_mode": {
    "name": "ipython",
    "version": 3
   },
   "file_extension": ".py",
   "mimetype": "text/x-python",
   "name": "python",
   "nbconvert_exporter": "python",
   "pygments_lexer": "ipython3",
   "version": "3.11.3"
  },
  "orig_nbformat": 4
 },
 "nbformat": 4,
 "nbformat_minor": 2
}
